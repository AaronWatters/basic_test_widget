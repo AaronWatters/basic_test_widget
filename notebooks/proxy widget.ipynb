{
 "cells": [
  {
   "cell_type": "code",
   "execution_count": 1,
   "metadata": {
    "collapsed": true
   },
   "outputs": [],
   "source": [
    "# Similar functionality implemented using a proxy widget\n",
    "import jp_proxy_widget"
   ]
  },
  {
   "cell_type": "code",
   "execution_count": 2,
   "metadata": {
    "collapsed": false
   },
   "outputs": [
    {
     "data": {
      "application/vnd.jupyter.widget-view+json": {
       "model_id": "a95aa01e6dff43758e0a0a5381892191",
       "version_major": 2,
       "version_minor": 0
      },
      "text/html": [
       "<p>Failed to display Jupyter Widget of type <code>JSProxyWidget</code>.</p>\n",
       "<p>\n",
       "  If you're reading this message in Jupyter Notebook or JupyterLab, it may mean\n",
       "  that the widgets JavaScript is still loading. If this message persists, it\n",
       "  likely means that the widgets JavaScript library is either not installed or\n",
       "  not enabled. See the <a href=\"https://ipywidgets.readthedocs.io/en/stable/user_install.html\">Jupyter\n",
       "  Widgets Documentation</a> for setup instructions.\n",
       "</p>\n",
       "<p>\n",
       "  If you're reading this message in another notebook frontend (for example, a static\n",
       "  rendering on GitHub or <a href=\"https://nbviewer.jupyter.org/\">NBViewer</a>),\n",
       "  it may mean that your frontend doesn't currently support widgets.\n",
       "</p>\n"
      ],
      "text/plain": [
       "JSProxyWidget(status='Not yet rendered')"
      ]
     },
     "metadata": {},
     "output_type": "display_data"
    }
   ],
   "source": [
    "demo0 = jp_proxy_widget.JSProxyWidget()\n",
    "\n",
    "demo0.js_init(\"\"\"\n",
    "\n",
    "// Injected Javascript here to initialize the widget presentation.\n",
    "\n",
    "// In js_init the \"element\" jQuery object is always bound to the widget \"anchor\".\n",
    "// The element is a jQuery object equipped with standard jQuery methods and any\n",
    "// extension methods which have been injected into jQuery.\n",
    "// The DOM object associated with the widget is contained in the element\n",
    "// as element[0].\n",
    "\n",
    "// Empty out the default content of the element.\n",
    "element.empty();\n",
    "\n",
    "// Put some helpful text in the widget\n",
    "element.html(\"<div><b>The element is right here where the bold text shows up!</b></div>\");\n",
    "\n",
    "// You can also attach functions and other objects to the element by name for use later:\n",
    "element.change_text = function(text) {\n",
    "    element.html(\"<div><em>\" + text + \"</em></div>\")\n",
    "}\n",
    "\n",
    "\"\"\")\n",
    "\n",
    "# display the widget\n",
    "demo0"
   ]
  },
  {
   "cell_type": "code",
   "execution_count": 3,
   "metadata": {
    "collapsed": false
   },
   "outputs": [
    {
     "data": {
      "text/plain": [
       "element"
      ]
     },
     "execution_count": 3,
     "metadata": {},
     "output_type": "execute_result"
    }
   ],
   "source": [
    "demo0.element.change_text(\"Hello there!\")"
   ]
  },
  {
   "cell_type": "code",
   "execution_count": null,
   "metadata": {
    "collapsed": true
   },
   "outputs": [],
   "source": []
  }
 ],
 "metadata": {
  "kernelspec": {
   "display_name": "Python 3",
   "language": "python",
   "name": "python3"
  },
  "language_info": {
   "codemirror_mode": {
    "name": "ipython",
    "version": 3
   },
   "file_extension": ".py",
   "mimetype": "text/x-python",
   "name": "python",
   "nbconvert_exporter": "python",
   "pygments_lexer": "ipython3",
   "version": "3.6.3"
  }
 },
 "nbformat": 4,
 "nbformat_minor": 2
}
